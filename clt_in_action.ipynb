{
 "cells": [
  {
   "cell_type": "code",
   "execution_count": 3,
   "id": "81c25346",
   "metadata": {},
   "outputs": [],
   "source": [
    "import pandas as pd\n",
    "import numpy as np\n",
    "\n",
    "import seaborn as sns\n",
    "%matplotlib inline "
   ]
  },
  {
   "cell_type": "markdown",
   "id": "9f14ffbf",
   "metadata": {},
   "source": [
    "#### Демонстрация центральной предельной теоремы (ЦПТ):\n",
    "1. распределение выборочных средних нормально  \n",
    "2. средние значения из средних = среднее ГС  \n",
    "3. стандартная ошибка среднего:\n",
    "$$\n",
    "se = \\frac{sigma}{корень(n)}\\\n",
    "$$\n",
    "где sigma - стандартное отклонение ГС  \n",
    "если n > 30, то:\n",
    "$$\n",
    "se = \\frac{sigv}{корень(n)}\\\n",
    "$$\n",
    "где sigv - стандартное отклонение выборки\n",
    "\n",
    "важное свойство ЦПТ:  \n",
    "*при увеличении размеров выборок и их повторных извлечениях*  \n",
    "*выборочное распределение средних этих выборок будет нормальным*  \n",
    "https://gallery.shinyapps.io/CLT_mean/  \n",
    "  \n",
    "*создаем ГС с нормальным распределением*"
   ]
  },
  {
   "cell_type": "code",
   "execution_count": 4,
   "id": "afdc6c00",
   "metadata": {},
   "outputs": [
    {
     "data": {
      "text/plain": [
       "99.889119"
      ]
     },
     "execution_count": 4,
     "metadata": {},
     "output_type": "execute_result"
    }
   ],
   "source": [
    "mu, sigma = 100, 10 # mean and standard deviation\n",
    "population = np.random.normal(mu, sigma, 10000).round(2)\n",
    "np.mean(population) # определяем среднее"
   ]
  },
  {
   "cell_type": "code",
   "execution_count": 5,
   "id": "984bc67d",
   "metadata": {},
   "outputs": [
    {
     "data": {
      "text/plain": [
       "<seaborn.axisgrid.FacetGrid at 0x161fc6e40a0>"
      ]
     },
     "execution_count": 5,
     "metadata": {},
     "output_type": "execute_result"
    },
    {
     "data": {
      "image/png": "[encoded data removed]",
      "text/plain": [
       "<Figure size 360x360 with 1 Axes>"
      ]
     },
     "metadata": {
      "needs_background": "light"
     },
     "output_type": "display_data"
    }
   ],
   "source": [
    "sns.displot(population, kde = False)"
   ]
  },
  {
   "cell_type": "markdown",
   "id": "e8b3fed9",
   "metadata": {},
   "source": [
    "*создаем выборку*"
   ]
  },
  {
   "cell_type": "code",
   "execution_count": 6,
   "id": "57b9c616",
   "metadata": {},
   "outputs": [],
   "source": [
    "sample_size = 30\n",
    "sample = np.random.choice(population, sample_size, False)"
   ]
  },
  {
   "cell_type": "code",
   "execution_count": 7,
   "id": "a10d0977",
   "metadata": {},
   "outputs": [
    {
     "data": {
      "text/plain": [
       "9.96677502574624"
      ]
     },
     "execution_count": 7,
     "metadata": {},
     "output_type": "execute_result"
    }
   ],
   "source": [
    "population.std()"
   ]
  },
  {
   "cell_type": "markdown",
   "id": "dd11de4b",
   "metadata": {},
   "source": [
    "*делаем 1000 выборок и собираем среднее выборок в один массив*"
   ]
  },
  {
   "cell_type": "code",
   "execution_count": 8,
   "id": "a2642f32",
   "metadata": {},
   "outputs": [],
   "source": [
    "sample_mean=[]\n",
    "n = 1000\n",
    "for i in range(n):\n",
    "    sample = np.random.choice(population, sample_size, False)\n",
    "    sample_mean.append(sample.mean())"
   ]
  },
  {
   "cell_type": "code",
   "execution_count": 9,
   "id": "b575680a",
   "metadata": {},
   "outputs": [
    {
     "data": {
      "text/plain": [
       "<seaborn.axisgrid.FacetGrid at 0x161fc6e4460>"
      ]
     },
     "execution_count": 9,
     "metadata": {},
     "output_type": "execute_result"
    },
    {
     "data": {
      "image/png": "[encoded data removed]",
      "text/plain": [
       "<Figure size 360x360 with 1 Axes>"
      ]
     },
     "metadata": {
      "needs_background": "light"
     },
     "output_type": "display_data"
    }
   ],
   "source": [
    "sns.displot(sample_mean, kde = False)"
   ]
  },
  {
   "cell_type": "code",
   "execution_count": 10,
   "id": "23263ddd",
   "metadata": {},
   "outputs": [
    {
     "data": {
      "text/plain": [
       "99.830118"
      ]
     },
     "execution_count": 10,
     "metadata": {},
     "output_type": "execute_result"
    }
   ],
   "source": [
    "# среднее из средних\n",
    "np.mean(sample_mean)"
   ]
  },
  {
   "cell_type": "code",
   "execution_count": 11,
   "id": "77b7095b",
   "metadata": {},
   "outputs": [
    {
     "data": {
      "text/plain": [
       "1.819675835726783"
      ]
     },
     "execution_count": 11,
     "metadata": {},
     "output_type": "execute_result"
    }
   ],
   "source": [
    "# используем в числителе std ГС\n",
    "se = population.std()/(sample_size**0.5)\n",
    "se"
   ]
  },
  {
   "cell_type": "code",
   "execution_count": 12,
   "id": "57eb06a0",
   "metadata": {},
   "outputs": [
    {
     "data": {
      "text/plain": [
       "1.7919106497033959"
      ]
     },
     "execution_count": 12,
     "metadata": {},
     "output_type": "execute_result"
    }
   ],
   "source": [
    "np.std(sample_mean)"
   ]
  },
  {
   "cell_type": "markdown",
   "id": "00f54d32",
   "metadata": {},
   "source": [
    "Правило трех сигм  - 100% наблюдений  \n",
    "Правило 1.96 сигм - 95% наблюдений  \n",
    "$$\n",
    "se = \\frac{sigma}{корень(n)}\\\n",
    "$$\n",
    "где sigma стандартное отклонение ГС"
   ]
  },
  {
   "cell_type": "markdown",
   "id": "d5149d4e",
   "metadata": {},
   "source": [
    "##### получаем доверительный интервал\n",
    "*используем std средних*"
   ]
  },
  {
   "cell_type": "code",
   "execution_count": 13,
   "id": "d406b4a6",
   "metadata": {},
   "outputs": [
    {
     "data": {
      "text/plain": [
       "103.40126387341866"
      ]
     },
     "execution_count": 13,
     "metadata": {},
     "output_type": "execute_result"
    }
   ],
   "source": [
    "population.mean() + 1.96*np.std(sample_mean)"
   ]
  },
  {
   "cell_type": "code",
   "execution_count": 14,
   "id": "952559a1",
   "metadata": {},
   "outputs": [
    {
     "data": {
      "text/plain": [
       "96.37697412658133"
      ]
     },
     "execution_count": 14,
     "metadata": {},
     "output_type": "execute_result"
    }
   ],
   "source": [
    "population.mean() - 1.96*np.std(sample_mean)"
   ]
  },
  {
   "cell_type": "markdown",
   "id": "4b5d94d8",
   "metadata": {},
   "source": [
    "*используем стандартную ошибку среднего*"
   ]
  },
  {
   "cell_type": "code",
   "execution_count": 15,
   "id": "805c6f2c",
   "metadata": {},
   "outputs": [
    {
     "data": {
      "text/plain": [
       "103.45568363802448"
      ]
     },
     "execution_count": 15,
     "metadata": {},
     "output_type": "execute_result"
    }
   ],
   "source": [
    "population.mean() + 1.96 * se"
   ]
  },
  {
   "cell_type": "code",
   "execution_count": 16,
   "id": "d0eede68",
   "metadata": {},
   "outputs": [
    {
     "data": {
      "text/plain": [
       "96.3225543619755"
      ]
     },
     "execution_count": 16,
     "metadata": {},
     "output_type": "execute_result"
    }
   ],
   "source": [
    "population.mean() - 1.96 * se"
   ]
  },
  {
   "cell_type": "markdown",
   "id": "0bc705dd",
   "metadata": {},
   "source": [
    "#### как устроена реальность?\n",
    "*в реальности всего лишь одна выборка*"
   ]
  },
  {
   "cell_type": "code",
   "execution_count": 17,
   "id": "634c7e07",
   "metadata": {},
   "outputs": [],
   "source": [
    "sample_real = np.random.choice(population, sample_size, False)"
   ]
  },
  {
   "cell_type": "code",
   "execution_count": 18,
   "id": "bfe1637b",
   "metadata": {},
   "outputs": [
    {
     "data": {
      "text/plain": [
       "array([ 95.79,  93.39,  92.14,  89.06, 102.89, 108.95, 101.46,  84.39,\n",
       "       100.4 , 101.5 ,  96.97,  96.06, 100.3 ,  83.22, 117.04,  82.71,\n",
       "        92.64,  99.55, 103.22,  96.24,  99.18, 104.22, 106.73, 115.8 ,\n",
       "       103.14,  94.87,  92.58, 114.84, 100.86,  87.61])"
      ]
     },
     "execution_count": 18,
     "metadata": {},
     "output_type": "execute_result"
    }
   ],
   "source": [
    "sample_real"
   ]
  },
  {
   "cell_type": "code",
   "execution_count": 19,
   "id": "f3c21697",
   "metadata": {},
   "outputs": [
    {
     "data": {
      "text/plain": [
       "98.59166666666667"
      ]
     },
     "execution_count": 19,
     "metadata": {},
     "output_type": "execute_result"
    }
   ],
   "source": [
    "sample_real.mean()"
   ]
  },
  {
   "cell_type": "markdown",
   "id": "92364ee5",
   "metadata": {},
   "source": [
    "*мы знаем, что если бы мы многократно повторяли эксперимент*  \n",
    "*то наши средние были бы распределены нормально с std = se*"
   ]
  },
  {
   "cell_type": "code",
   "execution_count": 62,
   "id": "4ed7c1eb",
   "metadata": {},
   "outputs": [
    {
     "data": {
      "text/plain": [
       "9.279028900339375"
      ]
     },
     "execution_count": 62,
     "metadata": {},
     "output_type": "execute_result"
    }
   ],
   "source": [
    "sample_real.std()"
   ]
  },
  {
   "cell_type": "markdown",
   "id": "b900d129",
   "metadata": {},
   "source": [
    "$$\n",
    "se= \\frac{sigv}{корень(n)}\\\n",
    "$$\n",
    "где sigv стандартное отклонение выборки"
   ]
  },
  {
   "cell_type": "code",
   "execution_count": 20,
   "id": "d1d9c031",
   "metadata": {},
   "outputs": [],
   "source": [
    "se = sample_real.std()/(sample_size**0.5)"
   ]
  },
  {
   "cell_type": "code",
   "execution_count": 21,
   "id": "67441e32",
   "metadata": {},
   "outputs": [
    {
     "data": {
      "text/plain": [
       "1.8464051248805569"
      ]
     },
     "execution_count": 21,
     "metadata": {},
     "output_type": "execute_result"
    }
   ],
   "source": [
    "se"
   ]
  },
  {
   "cell_type": "code",
   "execution_count": 22,
   "id": "4e1317b0",
   "metadata": {},
   "outputs": [
    {
     "data": {
      "text/plain": [
       "101.21528737809922"
      ]
     },
     "execution_count": 22,
     "metadata": {},
     "output_type": "execute_result"
    }
   ],
   "source": [
    "sample_real.mean() + 1.96 * se"
   ]
  },
  {
   "cell_type": "code",
   "execution_count": 23,
   "id": "c00abb06",
   "metadata": {},
   "outputs": [
    {
     "data": {
      "text/plain": [
       "93.97737928856745"
      ]
     },
     "execution_count": 23,
     "metadata": {},
     "output_type": "execute_result"
    }
   ],
   "source": [
    "sample_real.mean() - 1.96 * se"
   ]
  },
  {
   "cell_type": "markdown",
   "id": "ee0b2f6f",
   "metadata": {},
   "source": [
    "*таким образом, среднее ГС = 99.9*  \n",
    "*среднее отдельной выборки = 97.5*  \n",
    "*доверительный интервал выборки [93.9 101.1]*  \n",
    "*таким образом доверительный интервал включает среднее ГС*  \n",
    "*для 99% доверительного интервала множитель 2.58*"
   ]
  },
  {
   "cell_type": "markdown",
   "id": "e84ca2da",
   "metadata": {},
   "source": [
    "*python фунуция расчет доверительного интервала*"
   ]
  },
  {
   "cell_type": "code",
   "execution_count": 31,
   "id": "314b5fa9",
   "metadata": {},
   "outputs": [],
   "source": [
    "import scipy.stats as st\n",
    "import statsmodels.stats.api as sms"
   ]
  },
  {
   "cell_type": "code",
   "execution_count": 32,
   "id": "bc998f18",
   "metadata": {},
   "outputs": [
    {
     "data": {
      "text/plain": [
       "(95.28530328992701, 101.89803004340632)"
      ]
     },
     "execution_count": 32,
     "metadata": {},
     "output_type": "execute_result"
    }
   ],
   "source": [
    "st.t.interval(0.95, len(sample_real)-1, loc=np.mean(sample_real), scale=st.sem(sample_real))"
   ]
  },
  {
   "cell_type": "code",
   "execution_count": 33,
   "id": "478008e0",
   "metadata": {},
   "outputs": [
    {
     "data": {
      "text/plain": [
       "(95.28530328992701, 101.89803004340632)"
      ]
     },
     "execution_count": 33,
     "metadata": {},
     "output_type": "execute_result"
    }
   ],
   "source": [
    "sms.DescrStatsW(sample_real).tconfint_mean()"
   ]
  },
  {
   "cell_type": "markdown",
   "id": "1aaa803d",
   "metadata": {},
   "source": [
    "*расчет p-уровня значимости*  \n",
    "https://gallery.shinyapps.io/dist_calc/\n",
    "\n",
    "#### Важно:\n",
    "- p-уровень значимости не говорит о силе эффекта  \n",
    "- если получили уровень значимости выше порога – это не значит, что нулевая\n",
    "гипотеза верна. Просто такой уровень значимости не позволяет нам её\n",
    "отклонить."
   ]
  },
  {
   "cell_type": "code",
   "execution_count": null,
   "id": "6e1c8f3e",
   "metadata": {},
   "outputs": [],
   "source": []
  }
 ],
 "metadata": {
  "kernelspec": {
   "display_name": "Python 3",
   "language": "python",
   "name": "python3"
  },
  "language_info": {
   "codemirror_mode": {
    "name": "ipython",
    "version": 3
   },
   "file_extension": ".py",
   "mimetype": "text/x-python",
   "name": "python",
   "nbconvert_exporter": "python",
   "pygments_lexer": "ipython3",
   "version": "3.8.8"
  }
 },
 "nbformat": 4,
 "nbformat_minor": 5
}
