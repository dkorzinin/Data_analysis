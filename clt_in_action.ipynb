{
 "cells": [
  {
   "cell_type": "code",
   "execution_count": 2,
   "id": "81c25346",
   "metadata": {},
   "outputs": [],
   "source": [
    "import pandas as pd\n",
    "import numpy as np\n",
    "\n",
    "import seaborn as sns\n",
    "%matplotlib inline "
   ]
  },
  {
   "cell_type": "markdown",
   "id": "9f14ffbf",
   "metadata": {},
   "source": [
    "\n",
    "### <span style='background :yellow' > Central Limit Theorem (CLT): </span>\n",
    "1. distribution of sample means is normal\n",
    "2. average of sample means is equal of average of general totality\n",
    "3. standart error of mean:\n",
    "$$\n",
    "se = \\frac{\\sigma}{\\sqrt{n}}\\\n",
    "$$\n",
    "where $\\sigma$ - standart deviation of general totality  \n",
    "if n > 30, then:\n",
    "$$\n",
    "se = \\frac{sd}{\\sqrt{n}}\\\n",
    "$$\n",
    "where sd - standart deviation of sample\n",
    "\n",
    "#### <span style='background :aqua)' >it is of importance: </span>\n",
    "*in case of increasing sample size and quantity of smaples distribution of sample means will be normal*  \n",
    "*(even if general totality is not normal)*  \n",
    "https://gallery.shinyapps.io/CLT_mean/  "
   ]
  },
  {
   "cell_type": "markdown",
   "id": "450d75b4",
   "metadata": {},
   "source": [
    "\n",
    "### <span style='background :yellow' > Step 1 </span>\n",
    "*make a general totality with normal distribution*"
   ]
  },
  {
   "cell_type": "code",
   "execution_count": 3,
   "id": "afdc6c00",
   "metadata": {},
   "outputs": [
    {
     "data": {
      "text/plain": [
       "100.07776199999999"
      ]
     },
     "execution_count": 3,
     "metadata": {},
     "output_type": "execute_result"
    }
   ],
   "source": [
    "mu, sigma = 100, 10 # mean and standard deviation\n",
    "population = np.random.normal(mu, sigma, 10000).round(2)\n",
    "np.mean(population) # calculate mean"
   ]
  },
  {
   "cell_type": "code",
   "execution_count": 4,
   "id": "984bc67d",
   "metadata": {},
   "outputs": [
    {
     "data": {
      "text/plain": [
       "<seaborn.axisgrid.FacetGrid at 0x28913ba2970>"
      ]
     },
     "execution_count": 4,
     "metadata": {},
     "output_type": "execute_result"
    },
    {
     "data": {
      "image/png": "[encoded data removed]",
      "text/plain": [
       "<Figure size 360x360 with 1 Axes>"
      ]
     },
     "metadata": {
      "needs_background": "light"
     },
     "output_type": "display_data"
    }
   ],
   "source": [
    "sns.displot(population, kde = False)"
   ]
  },
  {
   "cell_type": "markdown",
   "id": "e8b3fed9",
   "metadata": {},
   "source": [
    "\n",
    "### <span style='background :yellow' > Step 2 </span>\n",
    "*create 1000 samples and collect means of samples*"
   ]
  },
  {
   "cell_type": "code",
   "execution_count": 5,
   "id": "550e13c0",
   "metadata": {},
   "outputs": [],
   "source": [
    "sample_size = 30\n",
    "sample_mean=[]\n",
    "n = 1000\n",
    "for i in range(n):\n",
    "    sample = np.random.choice(population, sample_size, False)\n",
    "    sample_mean.append(sample.mean())"
   ]
  },
  {
   "cell_type": "code",
   "execution_count": 6,
   "id": "ccf153b0",
   "metadata": {},
   "outputs": [
    {
     "data": {
      "text/plain": [
       "<seaborn.axisgrid.FacetGrid at 0x28915450e80>"
      ]
     },
     "execution_count": 6,
     "metadata": {},
     "output_type": "execute_result"
    },
    {
     "data": {
      "image/png": "[encoded data removed]",
      "text/plain": [
       "<Figure size 360x360 with 1 Axes>"
      ]
     },
     "metadata": {
      "needs_background": "light"
     },
     "output_type": "display_data"
    }
   ],
   "source": [
    "sns.displot(sample_mean, kde = False)"
   ]
  },
  {
   "cell_type": "markdown",
   "id": "220eb941",
   "metadata": {},
   "source": [
    "### <span style='background :yellow' > Step 3 </span>\n",
    "\n",
    "*Reality*  \n",
    "*We have only one sample*\n"
   ]
  },
  {
   "cell_type": "code",
   "execution_count": 7,
   "id": "601641ca",
   "metadata": {},
   "outputs": [
    {
     "data": {
      "text/plain": [
       "array([120.22, 111.54, 108.58, 110.73,  92.61,  87.02, 110.5 , 114.23,\n",
       "       102.69, 109.24,  81.86,  99.06,  95.82, 109.31,  85.12, 114.55,\n",
       "        93.55, 100.37, 104.94, 110.26, 114.74,  85.89,  97.1 , 104.7 ,\n",
       "       101.3 , 103.14,  90.97, 108.75,  86.27,  88.72])"
      ]
     },
     "execution_count": 7,
     "metadata": {},
     "output_type": "execute_result"
    }
   ],
   "source": [
    "sample_real = np.random.choice(population, sample_size, False)\n",
    "sample_real"
   ]
  },
  {
   "cell_type": "code",
   "execution_count": 8,
   "id": "4a10e65d",
   "metadata": {},
   "outputs": [],
   "source": [
    "se = sample_real.std()/(sample_size**0.5)"
   ]
  },
  {
   "cell_type": "markdown",
   "id": "905edacd",
   "metadata": {},
   "source": [
    "*define confidence interval*"
   ]
  },
  {
   "cell_type": "code",
   "execution_count": 9,
   "id": "00de1b18",
   "metadata": {},
   "outputs": [
    {
     "data": {
      "text/plain": [
       "105.19318448313363"
      ]
     },
     "execution_count": 9,
     "metadata": {},
     "output_type": "execute_result"
    }
   ],
   "source": [
    "sample_real.mean() + 1.96 * se"
   ]
  },
  {
   "cell_type": "code",
   "execution_count": 10,
   "id": "9894f67d",
   "metadata": {},
   "outputs": [
    {
     "data": {
      "text/plain": [
       "97.725482183533"
      ]
     },
     "execution_count": 10,
     "metadata": {},
     "output_type": "execute_result"
    }
   ],
   "source": [
    "sample_real.mean() - 1.96 * se"
   ]
  },
  {
   "cell_type": "code",
   "execution_count": 11,
   "id": "334f34d2",
   "metadata": {},
   "outputs": [
    {
     "data": {
      "text/plain": [
       "100.07776199999999"
      ]
     },
     "execution_count": 11,
     "metadata": {},
     "output_type": "execute_result"
    }
   ],
   "source": [
    "# therefore, mean of general totality:\n",
    "population.mean()"
   ]
  },
  {
   "cell_type": "code",
   "execution_count": 12,
   "id": "b099c03c",
   "metadata": {},
   "outputs": [
    {
     "data": {
      "text/plain": [
       "101.45933333333332"
      ]
     },
     "execution_count": 12,
     "metadata": {},
     "output_type": "execute_result"
    }
   ],
   "source": [
    "# smaple mean\n",
    "sample_real.mean()"
   ]
  },
  {
   "cell_type": "markdown",
   "id": "e5a6a1b9",
   "metadata": {},
   "source": [
    "*confidence interval of sample includes mean of general totality*"
   ]
  },
  {
   "cell_type": "markdown",
   "id": "e84ca2da",
   "metadata": {},
   "source": [
    "### <span style='background :yellow' > P.S.(1) </span>\n",
    "*python function for confidence interval*"
   ]
  },
  {
   "cell_type": "code",
   "execution_count": 13,
   "id": "314b5fa9",
   "metadata": {},
   "outputs": [],
   "source": [
    "import scipy.stats as st\n",
    "import statsmodels.stats.api as sms"
   ]
  },
  {
   "cell_type": "code",
   "execution_count": 14,
   "id": "bc998f18",
   "metadata": {},
   "outputs": [
    {
     "data": {
      "text/plain": [
       "(97.49651068600708, 105.42215598065955)"
      ]
     },
     "execution_count": 14,
     "metadata": {},
     "output_type": "execute_result"
    }
   ],
   "source": [
    "st.t.interval(0.95, len(sample_real)-1, loc=np.mean(sample_real), scale=st.sem(sample_real))"
   ]
  },
  {
   "cell_type": "code",
   "execution_count": 15,
   "id": "478008e0",
   "metadata": {},
   "outputs": [
    {
     "data": {
      "text/plain": [
       "(97.49651068600708, 105.42215598065955)"
      ]
     },
     "execution_count": 15,
     "metadata": {},
     "output_type": "execute_result"
    }
   ],
   "source": [
    "sms.DescrStatsW(sample_real).tconfint_mean()"
   ]
  },
  {
   "cell_type": "markdown",
   "id": "1aaa803d",
   "metadata": {},
   "source": [
    "### <span style='background :yellow' > P.S. (2) </span>\n",
    "*p-value - probability to get the same or more extremal value of statistic in case of null hipotesis is true*  \n",
    "*calculation p-value:*  \n",
    "https://gallery.shinyapps.io/dist_calc/\n",
    "\n",
    "#### <span style='background :aqua)' >it is of importance: </span>\n",
    "- p-value does not show the power of effect  \n",
    "- if we got p-value higher then threshold it does not mean that null hipotesis is true. It's just that this significance level prevents us from rejecting it"
   ]
  },
  {
   "cell_type": "code",
   "execution_count": null,
   "id": "a941db3a",
   "metadata": {},
   "outputs": [],
   "source": []
  }
 ],
 "metadata": {
  "kernelspec": {
   "display_name": "Python 3",
   "language": "python",
   "name": "python3"
  },
  "language_info": {
   "codemirror_mode": {
    "name": "ipython",
    "version": 3
   },
   "file_extension": ".py",
   "mimetype": "text/x-python",
   "name": "python",
   "nbconvert_exporter": "python",
   "pygments_lexer": "ipython3",
   "version": "3.8.8"
  }
 },
 "nbformat": 4,
 "nbformat_minor": 5
}
