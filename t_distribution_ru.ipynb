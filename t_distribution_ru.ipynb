{
 "cells": [
  {
   "cell_type": "code",
   "execution_count": 1,
   "id": "81c25346",
   "metadata": {},
   "outputs": [],
   "source": [
    "import pandas as pd\n",
    "import numpy as np\n",
    "\n",
    "import seaborn as sns\n",
    "import matplotlib.pyplot as plt\n",
    "%matplotlib inline "
   ]
  },
  {
   "cell_type": "markdown",
   "id": "60b67764",
   "metadata": {},
   "source": [
    "*рассмотрим случай когда мы имеем небольшую выборку (n<30)*  \n",
    "*и сравним со случаем когда выборка большая.*  \n",
    "*В небольшой выборке ыборочное среднее сильно отличается от среднего генральной совокупности (ГС)*"
   ]
  },
  {
   "cell_type": "markdown",
   "id": "688c0350",
   "metadata": {},
   "source": [
    "### <span style='background :Moccasin' > Шаг 1 </span>\n",
    "**зададим ГС и два размера выборок**  \n",
    "*1.1 сгенерируем ГС в котором значения распределены нормально*"
   ]
  },
  {
   "cell_type": "code",
   "execution_count": 2,
   "id": "afdc6c00",
   "metadata": {},
   "outputs": [],
   "source": [
    "mu, sigma = 100, 10 # mean and standard deviation\n",
    "population = np.random.normal(mu, sigma, 10000).round(2)"
   ]
  },
  {
   "cell_type": "markdown",
   "id": "a0fb129b",
   "metadata": {},
   "source": [
    "*1.2 определим статистики ГС*"
   ]
  },
  {
   "cell_type": "code",
   "execution_count": 3,
   "id": "b52d9861",
   "metadata": {},
   "outputs": [],
   "source": [
    "mean_gen_pop = np.mean(population) # mean\n",
    "std_gen_pop = np.std(population) # standard deviation"
   ]
  },
  {
   "cell_type": "markdown",
   "id": "8f9a2b99",
   "metadata": {},
   "source": [
    "*1.3 зададим две выборки с разным количеством элементов*"
   ]
  },
  {
   "cell_type": "code",
   "execution_count": 4,
   "id": "57b9c616",
   "metadata": {},
   "outputs": [],
   "source": [
    "sample_size_1 = 40 # sample with big size\n",
    "sample_size_2 = 5 # sample with small size\n",
    "sample_1 = np.random.choice(population, sample_size_1, False) # sample generation\n",
    "sample_2 = np.random.choice(population, sample_size_2, False) # sample generation"
   ]
  },
  {
   "cell_type": "markdown",
   "id": "54e12514",
   "metadata": {},
   "source": [
    "*1.4 посмотрим на распределение выборочных средних при разных размерах выборки*"
   ]
  },
  {
   "cell_type": "code",
   "execution_count": 5,
   "id": "32f4c6f7",
   "metadata": {},
   "outputs": [],
   "source": [
    "sample_mean_1=[]\n",
    "sample_mean_2=[]\n",
    "n = 1000\n",
    "for i in range(n):\n",
    "    sample_1 = np.random.choice(population, sample_size_1, False) # sample generation\n",
    "    sample_2 = np.random.choice(population, sample_size_2, False) # sample generation\n",
    "    sample_mean_1.append(sample_1.mean())\n",
    "    sample_mean_2.append(sample_2.mean())"
   ]
  },
  {
   "cell_type": "code",
   "execution_count": 6,
   "id": "246e80bf",
   "metadata": {},
   "outputs": [
    {
     "data": {
      "text/plain": [
       "[Text(0.5, 0, 'sample_mean_2')]"
      ]
     },
     "execution_count": 6,
     "metadata": {},
     "output_type": "execute_result"
    },
    {
     "data": {
      "image/png": "[encoded data removed]",
      "text/plain": [
       "<Figure size 864x360 with 2 Axes>"
      ]
     },
     "metadata": {},
     "output_type": "display_data"
    }
   ],
   "source": [
    "sns.set()\n",
    "#define dimensions of subplots (rows, columns)\n",
    "fig, axes = plt.subplots(nrows=1, ncols=2, figsize=(12,5))\n",
    "#create chart in each subplot\n",
    "ak1 = sns.histplot(sample_mean_1, kde = False, ax=axes[0])\n",
    "ak2 = sns.histplot(sample_mean_2, kde = False, ax=axes[1])\n",
    "ak1.set(xlabel=\"sample_mean_1\")\n",
    "ak2.set(xlabel=\"sample_mean_2\")\n"
   ]
  },
  {
   "cell_type": "markdown",
   "id": "99e3e0f5",
   "metadata": {},
   "source": [
    "*мы видим, что при большем размере выборки распределение средних распологается ближе к среднему ГС*"
   ]
  },
  {
   "cell_type": "markdown",
   "id": "cff04cff",
   "metadata": {},
   "source": [
    "### <span style='background :Moccasin' > Шаг 2 </span> \n",
    "*z-преобразование выборочных средних (через стд.отк. ГС)*  \n",
    "\n",
    "*2.1 определим стандартную ошибку среднего (se)*  \n",
    "*важно!!! при расчете se используем стандартное отклонение ГС*\n",
    "$$\n",
    "se = \\frac{\\sigma}{\\sqrt{n}} \\\\\n",
    "$$"
   ]
  },
  {
   "cell_type": "code",
   "execution_count": 27,
   "id": "7286cc64",
   "metadata": {},
   "outputs": [
    {
     "data": {
      "text/plain": [
       "1.592811814694504"
      ]
     },
     "execution_count": 27,
     "metadata": {},
     "output_type": "execute_result"
    }
   ],
   "source": [
    "se_1 = std_gen_pop / sample_size_1 ** 0.5\n",
    "se_1"
   ]
  },
  {
   "cell_type": "code",
   "execution_count": 28,
   "id": "9318747a",
   "metadata": {},
   "outputs": [
    {
     "data": {
      "text/plain": [
       "4.5051521412981375"
      ]
     },
     "execution_count": 28,
     "metadata": {},
     "output_type": "execute_result"
    }
   ],
   "source": [
    "se_2 = std_gen_pop / sample_size_2 ** 0.5\n",
    "se_2"
   ]
  },
  {
   "cell_type": "markdown",
   "id": "d79149a3",
   "metadata": {},
   "source": [
    "*2.2 для выборочных средних с разным размером выборки определим z-значения*  \n",
    "*в данном случае, z - значения это отклонение выборочных средних в единицах стандартной ошибки среднего*  \n",
    "$$\n",
    "z = \\frac{X - \\mu}{se} \\\\\n",
    "$$\n",
    "*где X - среднее выборки, $\\mu$ - среднее ГС*"
   ]
  },
  {
   "cell_type": "code",
   "execution_count": 29,
   "id": "b812b9a2",
   "metadata": {},
   "outputs": [],
   "source": [
    "n = 10000 # quantity of samples\n",
    "z_scores_1=[]\n",
    "z_scores_2=[]\n",
    "for i in range(n):\n",
    "#     create two type of sample\n",
    "    sample_1 = np.random.choice(population, sample_size_1, False)\n",
    "    sample_2 = np.random.choice(population, sample_size_2, False)\n",
    "#     define sample mean\n",
    "    sample_mean_1 = sample_1.mean()\n",
    "    sample_mean_2 = sample_2.mean()\n",
    "    #z-распределение\n",
    "    z_score_1 = (sample_mean_1 - mean_gen_pop)/se_1\n",
    "    z_score_2 = (sample_mean_2 - mean_gen_pop)/se_2\n",
    "    z_scores_1.append(z_score_1)\n",
    "    z_scores_2.append(z_score_2)"
   ]
  },
  {
   "cell_type": "code",
   "execution_count": 30,
   "id": "4d2e0267",
   "metadata": {},
   "outputs": [],
   "source": [
    "# сreate dataframe\n",
    "df_z = pd.DataFrame(list(zip(z_scores_1, z_scores_2)),\n",
    "               columns =['z_scores_1', 'z_scores_2'])"
   ]
  },
  {
   "cell_type": "markdown",
   "id": "cd0d5bdb",
   "metadata": {},
   "source": [
    "*2.3 строим распределение выборочных средних*"
   ]
  },
  {
   "cell_type": "code",
   "execution_count": 31,
   "id": "52cae8d2",
   "metadata": {},
   "outputs": [
    {
     "data": {
      "text/plain": [
       "(-4.0, 4.0)"
      ]
     },
     "execution_count": 31,
     "metadata": {},
     "output_type": "execute_result"
    },
    {
     "data": {
      "image/png": "[encoded data removed]",
      "text/plain": [
       "<Figure size 864x360 with 2 Axes>"
      ]
     },
     "metadata": {},
     "output_type": "display_data"
    }
   ],
   "source": [
    "sns.set()\n",
    "#define dimensions of subplots (rows, columns)\n",
    "fig, axes = plt.subplots(nrows=1, ncols=2, figsize=(12,5))\n",
    "#create chart in each subplot\n",
    "ak1 = sns.histplot(df_z.z_scores_1, kde = False, ax=axes[0])\n",
    "ak2 = sns.histplot(df_z.z_scores_2, kde = False, ax=axes[1])\n",
    "# define lim for x-axis\n",
    "ak1.set_xlim(-4, 4)\n",
    "ak2.set_xlim(-4, 4)"
   ]
  },
  {
   "cell_type": "markdown",
   "id": "f1d051cf",
   "metadata": {},
   "source": [
    "*мы видим, что размер выборки никак не влияет на z-значения выборочных средних*  \n",
    "*в случае если мы используем стандартное отклонение ГС,*  \n",
    "*т.к. в каждом случае у нас меняется только выборочное среднее*"
   ]
  },
  {
   "cell_type": "markdown",
   "id": "49e09b11",
   "metadata": {},
   "source": [
    "### <span style='background :Moccasin' > Шаг 3 </span> \n",
    "*t-преобразование выборочных средних (через стд.отк. выборки)*  \n",
    "*3.1 делаем z-преобразование, только при расчете стандартной ошибки среднего*  \n",
    "*используем стандартное отклонение выборки:*  \n",
    "$$\n",
    "se_s = \\frac{sd}{\\sqrt{n}} \\\\\n",
    "$$\n",
    "*называем это распределение t-score:*\n",
    "$$\n",
    "z = \\frac{X - \\mu}{se} \\\\\n",
    "$$"
   ]
  },
  {
   "cell_type": "code",
   "execution_count": 32,
   "id": "e497abda",
   "metadata": {},
   "outputs": [],
   "source": [
    "n = 10000 # quantity of samples\n",
    "t_scores_1=[]\n",
    "t_scores_2=[]\n",
    "for i in range(n):\n",
    "#     create two type of sample\n",
    "    sample_1 = np.random.choice(population, sample_size_1, False)\n",
    "    sample_2 = np.random.choice(population, sample_size_2, False)\n",
    "    sample_std_1 = sample_1.std()\n",
    "    sample_std_2 = sample_2.std()\n",
    "    se_1 = sample_std_1/sample_size_1 ** 0.5\n",
    "    se_2 = sample_std_2/sample_size_2 ** 0.5\n",
    "#     define sample mean\n",
    "    sample_mean_1 = sample_1.mean()\n",
    "    sample_mean_2 = sample_2.mean()\n",
    "    #z-распределение\n",
    "    t_score_1 = (sample_mean_1 - mean_gen_pop)/se_1\n",
    "    t_score_2 = (sample_mean_2 - mean_gen_pop)/se_2\n",
    "    t_scores_1.append(t_score_1)\n",
    "    t_scores_2.append(t_score_2)"
   ]
  },
  {
   "cell_type": "code",
   "execution_count": 33,
   "id": "f3a5488a",
   "metadata": {},
   "outputs": [],
   "source": [
    "# сreate dataframe\n",
    "df_t = pd.DataFrame(list(zip(t_scores_1, t_scores_2)),\n",
    "               columns =['t_scores_1', 't_scores_2'])"
   ]
  },
  {
   "cell_type": "code",
   "execution_count": 34,
   "id": "8d4b4c05",
   "metadata": {},
   "outputs": [
    {
     "data": {
      "image/png": "[encoded data removed]",
      "text/plain": [
       "<Figure size 864x360 with 2 Axes>"
      ]
     },
     "metadata": {},
     "output_type": "display_data"
    }
   ],
   "source": [
    "sns.set()\n",
    "#define dimensions of subplots (rows, columns)\n",
    "fig, axes = plt.subplots(nrows=1, ncols=2, figsize=(12,5))\n",
    "#create chart in each subplot\n",
    "ak1 = sns.histplot(df_t.t_scores_1, kde = False, ax=axes[0])\n",
    "ak2 = sns.histplot(df_t.t_scores_2, kde = False, ax=axes[1])\n",
    "# define lim for x-axis\n",
    "# ak1.set_xlim(-4, 4)\n",
    "# ak2.set_xlim(-4, 4)"
   ]
  },
  {
   "cell_type": "markdown",
   "id": "d1afdc00",
   "metadata": {},
   "source": [
    "*мы видим, что при малых размерах выборки (t_scores_2) выборочные средние*  \n",
    "*сильно отклоняются от среднего ГС:*  \n",
    "*в случае больших выборок (t_scores_1) распределение средних выглядит как нормальное,*   \n",
    "*т.е. большинство (95%) выборочных средних лежит в диапазоне 1.96se,*   \n",
    "*Расширение диапазона выборочных средних в случае малых выборок сильно увеличивает риск ошибки первого рода*  \n",
    "*(ошибка 1-го рода - \"изменения есть, но на самом деле их нет\") - т.е. средние могут сильно отклоняться,*  \n",
    "*не потому что есть изменения, а потому что выборка маленькая*  \n",
    "#### <span style='background :LightSkyBlue' >таким образом, чтобы работать с маленькими выборки на помощь приходит t-распределение (распределение Стюдента) </span>"
   ]
  },
  {
   "cell_type": "markdown",
   "id": "bb42fd70",
   "metadata": {},
   "source": [
    "### <span style='background :Moccasin' > Шаг 4 </span>\n",
    "*рассмотрим пример: среднее ГС = 10, выборочное среднее = 10.8, sd = 2, N = 25*    "
   ]
  },
  {
   "cell_type": "code",
   "execution_count": 35,
   "id": "df5820c7",
   "metadata": {},
   "outputs": [],
   "source": [
    "m = 10\n",
    "x, sd, N = 10.8, 2, 25\n",
    "se = sd/np.sqrt(N)"
   ]
  },
  {
   "cell_type": "markdown",
   "id": "3ad8ab69",
   "metadata": {},
   "source": [
    "*4.1 определяем z-значения*\n",
    "$$\n",
    "z = \\frac{X - \\mu}{se} \\\\\n",
    "$$"
   ]
  },
  {
   "cell_type": "code",
   "execution_count": 38,
   "id": "57ef639e",
   "metadata": {},
   "outputs": [
    {
     "data": {
      "text/plain": [
       "2.0000000000000018"
      ]
     },
     "execution_count": 38,
     "metadata": {},
     "output_type": "execute_result"
    }
   ],
   "source": [
    "z = (x-m)/se\n",
    "z"
   ]
  },
  {
   "cell_type": "markdown",
   "id": "36cd4445",
   "metadata": {},
   "source": [
    "*отклонение от среднего ГС равно 2*  \n",
    "*определяем p-value, предполагая что распределение нормальное*  \n",
    "https://gallery.shinyapps.io/dist_calc/  \n",
    "*p = 0.0455*  \n",
    "*p<0.05, отклоняем нулевую гипотезу*"
   ]
  },
  {
   "cell_type": "markdown",
   "id": "fd77a463",
   "metadata": {},
   "source": [
    "*4.2 определяем t-значения*  \n",
    "*количество степеней свободы*  \n",
    "*df = n-1 = 24*"
   ]
  },
  {
   "cell_type": "code",
   "execution_count": 39,
   "id": "2194bd2f",
   "metadata": {},
   "outputs": [
    {
     "data": {
      "text/plain": [
       "2.0000000000000018"
      ]
     },
     "execution_count": 39,
     "metadata": {},
     "output_type": "execute_result"
    }
   ],
   "source": [
    "se = sd/np.sqrt(N)\n",
    "t = (x-m)/se\n",
    "t"
   ]
  },
  {
   "cell_type": "markdown",
   "id": "02c80cc7",
   "metadata": {},
   "source": [
    "*определяем p-value с использованием \"t\" распределения*  \n",
    "*используя t = 2 получаем p-value 0.0569*  \n",
    "*это не позволяет нам отклонить нулевую гипотезу*  "
   ]
  },
  {
   "cell_type": "markdown",
   "id": "1f5d85fe",
   "metadata": {},
   "source": [
    "### <span style='background :Moccasin' > P.S. (1) </span>\n",
    "*таблица для расчета доверительного интервала при t-распределении:*  \n",
    "https://www.itl.nist.gov/div898/handbook/eda/section3/eda3672.htm"
   ]
  }
 ],
 "metadata": {
  "kernelspec": {
   "display_name": "Python 3",
   "language": "python",
   "name": "python3"
  },
  "language_info": {
   "codemirror_mode": {
    "name": "ipython",
    "version": 3
   },
   "file_extension": ".py",
   "mimetype": "text/x-python",
   "name": "python",
   "nbconvert_exporter": "python",
   "pygments_lexer": "ipython3",
   "version": "3.8.8"
  }
 },
 "nbformat": 4,
 "nbformat_minor": 5
}
