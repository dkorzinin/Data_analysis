{
 "cells": [
  {
   "cell_type": "code",
   "execution_count": 1,
   "id": "81c25346",
   "metadata": {},
   "outputs": [],
   "source": [
    "import pandas as pd\n",
    "import numpy as np\n",
    "\n",
    "import seaborn as sns\n",
    "%matplotlib inline "
   ]
  },
  {
   "cell_type": "markdown",
   "id": "60b67764",
   "metadata": {},
   "source": [
    "*consider the case when we have a small sample (n<30)*  \n",
    "*the smaler the sample the larger deviation of the sample mean from the mean of population*"
   ]
  },
  {
   "cell_type": "markdown",
   "id": "688c0350",
   "metadata": {},
   "source": [
    "### <span style='background :Moccasin' > Step 1 </span>\n",
    "*create population and sample*  \n",
    "*1.1 generate normal distribution*"
   ]
  },
  {
   "cell_type": "code",
   "execution_count": 2,
   "id": "afdc6c00",
   "metadata": {},
   "outputs": [],
   "source": [
    "#normal distribution\n",
    "mu, sigma = 100, 10 # mean and standard deviation\n",
    "population = np.random.normal(mu, sigma, 10000).round(2)"
   ]
  },
  {
   "cell_type": "markdown",
   "id": "a0fb129b",
   "metadata": {},
   "source": [
    "*1.2 define statistics*"
   ]
  },
  {
   "cell_type": "code",
   "execution_count": 3,
   "id": "b52d9861",
   "metadata": {},
   "outputs": [],
   "source": [
    "# calculated mean\n",
    "mean_gen_pop = np.mean(population)\n",
    "# calculated standard deviation\n",
    "std_gen_pop = np.std(population)"
   ]
  },
  {
   "cell_type": "markdown",
   "id": "8f9a2b99",
   "metadata": {},
   "source": [
    "*1.3 create sample*"
   ]
  },
  {
   "cell_type": "code",
   "execution_count": 6,
   "id": "57b9c616",
   "metadata": {},
   "outputs": [],
   "source": [
    "#sample size\n",
    "sample_size = 10\n",
    "#sample generation\n",
    "sample = np.random.choice(population, sample_size, False)"
   ]
  },
  {
   "cell_type": "markdown",
   "id": "cff04cff",
   "metadata": {},
   "source": [
    "### <span style='background :Moccasin' > Step 2 </span>\n",
    "*create z-distribution*  \n",
    "*1.1 define standart error of mean*"
   ]
  },
  {
   "cell_type": "code",
   "execution_count": 7,
   "id": "7286cc64",
   "metadata": {},
   "outputs": [
    {
     "data": {
      "text/plain": [
       "3.154801015916392"
      ]
     },
     "execution_count": 7,
     "metadata": {},
     "output_type": "execute_result"
    }
   ],
   "source": [
    "se = std_gen_pop / sample_size ** 0.5\n",
    "se"
   ]
  },
  {
   "cell_type": "markdown",
   "id": "d79149a3",
   "metadata": {},
   "source": [
    "*1.2 define z-values, i.e. devations of sample means in units of standart error of mean:*\n",
    "$$\n",
    "z = \\frac{X - \\mu}{\\sqrt{n}} \\\\\n",
    "$$\n",
    "*где X - среднее выборки, $\\mu$ - mean of population*"
   ]
  },
  {
   "cell_type": "code",
   "execution_count": 8,
   "id": "b812b9a2",
   "metadata": {},
   "outputs": [],
   "source": [
    "#quantity of samples\n",
    "n = 10000\n",
    "z_scores=[]\n",
    "for i in range(n):\n",
    "    sample = np.random.choice(population, sample_size, False)\n",
    "    sample_mean = sample.mean()\n",
    "    #z-распределение\n",
    "    z_score = (sample_mean - mean_gen_pop)/se\n",
    "    z_scores.append(z_score)"
   ]
  },
  {
   "cell_type": "code",
   "execution_count": 29,
   "id": "ee2a2bfe",
   "metadata": {},
   "outputs": [
    {
     "data": {
      "text/plain": [
       "<seaborn.axisgrid.FacetGrid at 0x1f2d10f68b0>"
      ]
     },
     "execution_count": 29,
     "metadata": {},
     "output_type": "execute_result"
    },
    {
     "data": {
      "image/png": "[encoded data removed]",
      "text/plain": [
       "<Figure size 360x360 with 1 Axes>"
      ]
     },
     "metadata": {
      "needs_background": "light"
     },
     "output_type": "display_data"
    }
   ],
   "source": [
    "#distribution of general population\n",
    "sns.displot(z_scores, kde = False)"
   ]
  },
  {
   "cell_type": "markdown",
   "id": "bb42fd70",
   "metadata": {},
   "source": [
    "### <span style='background :Moccasin' > Step 3 </span>\n",
    "*create t-distribution*  \n",
    "*3.1 define standart error of mean with using standart deviation of sample:*\n",
    "$$\n",
    "se_s = \\frac{sd}{\\sqrt{n}} \\\\\n",
    "$$\n",
    "*where sd - standart deviation of sample, n - sample size*"
   ]
  },
  {
   "cell_type": "code",
   "execution_count": 23,
   "id": "7927d83d",
   "metadata": {},
   "outputs": [
    {
     "data": {
      "text/plain": [
       "2.9776031374990932"
      ]
     },
     "execution_count": 23,
     "metadata": {},
     "output_type": "execute_result"
    }
   ],
   "source": [
    "se_s = np.std(sample)/((sample_size-1) ** 0.5)\n",
    "se_s"
   ]
  },
  {
   "cell_type": "markdown",
   "id": "b4996bf7",
   "metadata": {},
   "source": [
    "*3.2 define t-values*  \n",
    "$$\n",
    "t = \\frac{X - \\mu}{se_s} \\\\\n",
    "$$\n",
    "*where X - sample mean, $\\mu$ - mean of population*\n"
   ]
  },
  {
   "cell_type": "code",
   "execution_count": 24,
   "id": "9abeb55c",
   "metadata": {},
   "outputs": [],
   "source": [
    "#quantity of samples\n",
    "n = 10000\n",
    "t_scores=[]\n",
    "for i in range(n):\n",
    "    sample = np.random.choice(population, sample_size, False)\n",
    "    sample_mean = sample.mean()\n",
    "    sample_std = sample.std()\n",
    "    #стандартная ошибка\n",
    "    se = sample_std / sample_size ** 0.5\n",
    "    #t-распределение\n",
    "    t_score = (sample_mean - mean_gen_pop)/se\n",
    "    t_scores.append(t_score)"
   ]
  },
  {
   "cell_type": "code",
   "execution_count": 25,
   "id": "b575680a",
   "metadata": {},
   "outputs": [
    {
     "data": {
      "text/plain": [
       "<seaborn.axisgrid.FacetGrid at 0x1f2d1345f40>"
      ]
     },
     "execution_count": 25,
     "metadata": {},
     "output_type": "execute_result"
    },
    {
     "data": {
      "image/png": "[encoded data removed]",
      "text/plain": [
       "<Figure size 360x360 with 1 Axes>"
      ]
     },
     "metadata": {
      "needs_background": "light"
     },
     "output_type": "display_data"
    }
   ],
   "source": [
    "#distribution of mean\n",
    "sns.displot(t_scores, kde = False)"
   ]
  },
  {
   "cell_type": "markdown",
   "id": "1a8337a2",
   "metadata": {},
   "source": [
    "### <span style='background :Moccasin' > P.S. (1) </span>\n",
    "*Example: mean of population = 10, sample mean = 10.8, sd = 2, N = 25*  "
   ]
  },
  {
   "cell_type": "code",
   "execution_count": 35,
   "id": "df5820c7",
   "metadata": {},
   "outputs": [],
   "source": [
    "m = 10\n",
    "x, sd, N = 10.8, 2, 25\n",
    "se = sd/np.sqrt(N)"
   ]
  },
  {
   "cell_type": "markdown",
   "id": "3ad8ab69",
   "metadata": {},
   "source": [
    "*define z-value*"
   ]
  },
  {
   "cell_type": "code",
   "execution_count": 33,
   "id": "57ef639e",
   "metadata": {},
   "outputs": [
    {
     "data": {
      "text/plain": [
       "2.0000000000000018"
      ]
     },
     "execution_count": 33,
     "metadata": {},
     "output_type": "execute_result"
    }
   ],
   "source": [
    "z = (x-m)/se\n",
    "z"
   ]
  },
  {
   "cell_type": "markdown",
   "id": "36cd4445",
   "metadata": {},
   "source": [
    "*deviation from mean of population - 2*  \n",
    "*define p-value with using \"Normal\" distribution*  \n",
    "https://gallery.shinyapps.io/dist_calc/  \n",
    "*p = 0.0455*  \n",
    "*we can decline null hipotesis*"
   ]
  },
  {
   "cell_type": "markdown",
   "id": "fd77a463",
   "metadata": {},
   "source": [
    "*define t-values*  \n",
    "*number of degrees of freedom*  \n",
    "*df = n-1 = 24*"
   ]
  },
  {
   "cell_type": "code",
   "execution_count": 39,
   "id": "2194bd2f",
   "metadata": {},
   "outputs": [
    {
     "data": {
      "text/plain": [
       "2.0000000000000018"
      ]
     },
     "execution_count": 39,
     "metadata": {},
     "output_type": "execute_result"
    }
   ],
   "source": [
    "se = sd/np.sqrt(N)\n",
    "t = (x-m)/se\n",
    "t"
   ]
  },
  {
   "cell_type": "markdown",
   "id": "02c80cc7",
   "metadata": {},
   "source": [
    "*define p-value with using \"t\" distribution*  \n",
    "*using t = 2 we get p-value 0.0569*  \n",
    "*it will not allow us to reject the null hypothesis*  "
   ]
  },
  {
   "cell_type": "markdown",
   "id": "1f5d85fe",
   "metadata": {},
   "source": [
    "### <span style='background :Moccasin' > P.S. (2) </span>\n",
    "*table for calculation coefficient for confidence interval:*  \n",
    "https://www.itl.nist.gov/div898/handbook/eda/section3/eda3672.htm"
   ]
  }
 ],
 "metadata": {
  "kernelspec": {
   "display_name": "Python 3",
   "language": "python",
   "name": "python3"
  },
  "language_info": {
   "codemirror_mode": {
    "name": "ipython",
    "version": 3
   },
   "file_extension": ".py",
   "mimetype": "text/x-python",
   "name": "python",
   "nbconvert_exporter": "python",
   "pygments_lexer": "ipython3",
   "version": "3.8.8"
  }
 },
 "nbformat": 4,
 "nbformat_minor": 5
}
