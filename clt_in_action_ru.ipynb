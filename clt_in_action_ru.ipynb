{
 "cells": [
  {
   "cell_type": "code",
   "execution_count": 1,
   "id": "81c25346",
   "metadata": {},
   "outputs": [],
   "source": [
    "import pandas as pd\n",
    "import numpy as np\n",
    "\n",
    "import seaborn as sns\n",
    "%matplotlib inline "
   ]
  },
  {
   "cell_type": "markdown",
   "id": "9f14ffbf",
   "metadata": {},
   "source": [
    "\n",
    "### <span style='background :Moccasin' > Центральная предельная теорема (ЦПТ): </span>\n",
    "1. распределение выборочных средних является нормальным\n",
    "2. среднее выборочных средних равно среднему генеральной совокупности (ГС)\n",
    "3. стандартная ошибка среднего:\n",
    "$$\n",
    "se = \\frac{\\sigma}{\\sqrt{n}}\\\n",
    "$$\n",
    "где $\\sigma$ - стандартное отклонение генеральной совокупности  \n",
    "если n > 30, то:\n",
    "$$\n",
    "se = \\frac{sd}{\\sqrt{n}}\\\n",
    "$$\n",
    "где sd - стандартное отклонение выборки\n",
    "\n",
    "#### <span style='background :LightSkyBlue' >это важно: </span>\n",
    "*в случае увеличения размера выборки и количества выборок распределение выборочных средних будет нормальным*  \n",
    "*(даже если генеральная совокупность не рапределена нормально)*  \n",
    "https://gallery.shinyapps.io/CLT_mean/  "
   ]
  },
  {
   "cell_type": "markdown",
   "id": "450d75b4",
   "metadata": {},
   "source": [
    "\n",
    "### <span style='background :Moccasin' > Шаг 1 </span>\n",
    "*сгенерируем генеральную совокупность распределенную нормально*"
   ]
  },
  {
   "cell_type": "code",
   "execution_count": 2,
   "id": "afdc6c00",
   "metadata": {},
   "outputs": [
    {
     "data": {
      "text/plain": [
       "100.02238100000001"
      ]
     },
     "execution_count": 2,
     "metadata": {},
     "output_type": "execute_result"
    }
   ],
   "source": [
    "mu, sigma = 100, 10 # mean and standard deviation\n",
    "population = np.random.normal(mu, sigma, 10000).round(2)\n",
    "np.mean(population) # calculate mean"
   ]
  },
  {
   "cell_type": "code",
   "execution_count": 3,
   "id": "984bc67d",
   "metadata": {},
   "outputs": [
    {
     "data": {
      "text/plain": [
       "<seaborn.axisgrid.FacetGrid at 0x1f910478c10>"
      ]
     },
     "execution_count": 3,
     "metadata": {},
     "output_type": "execute_result"
    },
    {
     "data": {
      "image/png": "[encoded data removed]",
      "text/plain": [
       "<Figure size 360x360 with 1 Axes>"
      ]
     },
     "metadata": {
      "needs_background": "light"
     },
     "output_type": "display_data"
    }
   ],
   "source": [
    "sns.displot(population, kde = False)"
   ]
  },
  {
   "cell_type": "markdown",
   "id": "e8b3fed9",
   "metadata": {},
   "source": [
    "\n",
    "### <span style='background :Moccasin' > Шаг 2 </span>\n",
    "*создадим 1000 выборок и соберем средние выборок в единый массив*"
   ]
  },
  {
   "cell_type": "code",
   "execution_count": 8,
   "id": "550e13c0",
   "metadata": {},
   "outputs": [],
   "source": [
    "sample_size = 30\n",
    "sample_mean=[]\n",
    "n = 1000\n",
    "for i in range(n):\n",
    "    sample = np.random.choice(population, sample_size, False)\n",
    "    sample_mean.append(sample.mean())"
   ]
  },
  {
   "cell_type": "code",
   "execution_count": 7,
   "id": "ccf153b0",
   "metadata": {},
   "outputs": [
    {
     "data": {
      "text/plain": [
       "<seaborn.axisgrid.FacetGrid at 0x1f911d37460>"
      ]
     },
     "execution_count": 7,
     "metadata": {},
     "output_type": "execute_result"
    },
    {
     "data": {
      "image/png": "[encoded data removed]",
      "text/plain": [
       "<Figure size 360x360 with 1 Axes>"
      ]
     },
     "metadata": {
      "needs_background": "light"
     },
     "output_type": "display_data"
    }
   ],
   "source": [
    "sns.displot(sample_mean, kde = False)"
   ]
  },
  {
   "cell_type": "markdown",
   "id": "204902a4",
   "metadata": {},
   "source": [
    "#### <span style='background :LightSkyBlue' >вывод 1: </span>\n",
    "*выборочные средние распределены нормально*"
   ]
  },
  {
   "cell_type": "markdown",
   "id": "220eb941",
   "metadata": {},
   "source": [
    "### <span style='background :Moccasin' > Шаг 3 </span>\n",
    "\n",
    "*В реальности,....*  \n",
    "*Мы имеем только одну выборку*\n"
   ]
  },
  {
   "cell_type": "code",
   "execution_count": 10,
   "id": "601641ca",
   "metadata": {},
   "outputs": [
    {
     "data": {
      "text/plain": [
       "array([103.38, 120.21,  95.39, 106.96,  78.43,  85.03,  76.9 ,  85.51,\n",
       "        97.29, 108.96,  93.7 ,  95.56, 115.39,  98.41, 105.12,  89.95,\n",
       "        95.39, 120.8 , 103.9 ,  96.91, 120.03, 111.03,  94.66,  92.32,\n",
       "       104.82,  88.89, 113.56, 113.67, 118.99,  93.9 ])"
      ]
     },
     "execution_count": 10,
     "metadata": {},
     "output_type": "execute_result"
    }
   ],
   "source": [
    "sample_real = np.random.choice(population, sample_size, False)\n",
    "sample_real"
   ]
  },
  {
   "cell_type": "code",
   "execution_count": 11,
   "id": "4a10e65d",
   "metadata": {},
   "outputs": [],
   "source": [
    "se = sample_real.std()/(sample_size**0.5)"
   ]
  },
  {
   "cell_type": "markdown",
   "id": "905edacd",
   "metadata": {},
   "source": [
    "*определяем доверительный интервал*"
   ]
  },
  {
   "cell_type": "code",
   "execution_count": 12,
   "id": "00de1b18",
   "metadata": {},
   "outputs": [
    {
     "data": {
      "text/plain": [
       "105.17861851907756"
      ]
     },
     "execution_count": 12,
     "metadata": {},
     "output_type": "execute_result"
    }
   ],
   "source": [
    "sample_real.mean() + 1.96 * se"
   ]
  },
  {
   "cell_type": "code",
   "execution_count": 13,
   "id": "9894f67d",
   "metadata": {},
   "outputs": [
    {
     "data": {
      "text/plain": [
       "96.49204814758912"
      ]
     },
     "execution_count": 13,
     "metadata": {},
     "output_type": "execute_result"
    }
   ],
   "source": [
    "sample_real.mean() - 1.96 * se"
   ]
  },
  {
   "cell_type": "code",
   "execution_count": 14,
   "id": "334f34d2",
   "metadata": {},
   "outputs": [
    {
     "data": {
      "text/plain": [
       "100.148319"
      ]
     },
     "execution_count": 14,
     "metadata": {},
     "output_type": "execute_result"
    }
   ],
   "source": [
    "# среднее ГС\n",
    "population.mean()"
   ]
  },
  {
   "cell_type": "code",
   "execution_count": 15,
   "id": "b099c03c",
   "metadata": {},
   "outputs": [
    {
     "data": {
      "text/plain": [
       "100.83533333333334"
      ]
     },
     "execution_count": 15,
     "metadata": {},
     "output_type": "execute_result"
    }
   ],
   "source": [
    "# среднее выборки\n",
    "sample_real.mean()"
   ]
  },
  {
   "cell_type": "markdown",
   "id": "e5a6a1b9",
   "metadata": {},
   "source": [
    "*доверительный интервал выборки включает среднее ГС*"
   ]
  },
  {
   "cell_type": "markdown",
   "id": "e84ca2da",
   "metadata": {},
   "source": [
    "### <span style='background :Moccasin' > P.S.(1) </span>\n",
    "*функция python для доверительного интервала*"
   ]
  },
  {
   "cell_type": "code",
   "execution_count": 16,
   "id": "314b5fa9",
   "metadata": {},
   "outputs": [],
   "source": [
    "import scipy.stats as st\n",
    "import statsmodels.stats.api as sms"
   ]
  },
  {
   "cell_type": "code",
   "execution_count": 17,
   "id": "bc998f18",
   "metadata": {},
   "outputs": [
    {
     "data": {
      "text/plain": [
       "(96.22570423797313, 105.44496242869354)"
      ]
     },
     "execution_count": 17,
     "metadata": {},
     "output_type": "execute_result"
    }
   ],
   "source": [
    "st.t.interval(0.95, len(sample_real)-1, loc=np.mean(sample_real), scale=st.sem(sample_real))"
   ]
  },
  {
   "cell_type": "code",
   "execution_count": 18,
   "id": "478008e0",
   "metadata": {},
   "outputs": [
    {
     "data": {
      "text/plain": [
       "(96.22570423797313, 105.44496242869354)"
      ]
     },
     "execution_count": 18,
     "metadata": {},
     "output_type": "execute_result"
    }
   ],
   "source": [
    "sms.DescrStatsW(sample_real).tconfint_mean()"
   ]
  },
  {
   "cell_type": "markdown",
   "id": "1aaa803d",
   "metadata": {},
   "source": [
    "### <span style='background :Moccasin' > P.S. (2) </span>\n",
    "*p-value - веротность получить такие или более экстремальные статистики в случае если нулевая гипотеза верна* \n",
    "*расчет p-value:*  \n",
    "https://gallery.shinyapps.io/dist_calc/\n",
    "\n",
    "#### <span style='background :LightSkyBlue' >это важно: </span>\n",
    "- p-уровень значимости не говорит о силе эффекта  \n",
    "- если мы получим p-уровень значимости выше чем установленный порог, то это не значит что нулевая гипотеза верна. Эта значит что данный уровень значимости не позволяет нам её отклонить"
   ]
  },
  {
   "cell_type": "code",
   "execution_count": null,
   "id": "a941db3a",
   "metadata": {},
   "outputs": [],
   "source": []
  }
 ],
 "metadata": {
  "kernelspec": {
   "display_name": "Python 3",
   "language": "python",
   "name": "python3"
  },
  "language_info": {
   "codemirror_mode": {
    "name": "ipython",
    "version": 3
   },
   "file_extension": ".py",
   "mimetype": "text/x-python",
   "name": "python",
   "nbconvert_exporter": "python",
   "pygments_lexer": "ipython3",
   "version": "3.8.8"
  }
 },
 "nbformat": 4,
 "nbformat_minor": 5
}
